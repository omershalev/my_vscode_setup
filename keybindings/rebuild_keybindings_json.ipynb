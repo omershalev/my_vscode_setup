{
 "cells": [
  {
   "cell_type": "code",
   "execution_count": 1,
   "metadata": {},
   "outputs": [],
   "source": [
    "import json\n",
    "import os\n",
    "import platform"
   ]
  },
  {
   "cell_type": "markdown",
   "metadata": {},
   "source": [
    "# 1. Read current keybindings file"
   ]
  },
  {
   "cell_type": "code",
   "execution_count": 2,
   "metadata": {},
   "outputs": [],
   "source": [
    "if platform.system() == 'Windows':\n",
    "    running_keybindings_filepath = r'C:\\Users\\omers\\AppData\\Roaming\\Code\\User\\keybindings.json'\n",
    "elif platform.system() == 'Darwin':\n",
    "    running_keybindings_filepath = r'/Users/omershal/Library/Application Support/Code/User/keybindings.json'\n",
    "else:\n",
    "    raise NotImplementedError('Unsupported platform')"
   ]
  },
  {
   "cell_type": "code",
   "execution_count": 3,
   "metadata": {},
   "outputs": [],
   "source": [
    "with open(running_keybindings_filepath, 'r') as j:\n",
    "     running_keybindings = json.loads(j.read())"
   ]
  },
  {
   "cell_type": "code",
   "execution_count": 4,
   "metadata": {},
   "outputs": [],
   "source": [
    "windows_keybindings = []\n",
    "mac_keybindings = []\n",
    "shared_keybindings = []\n",
    "for binding in running_keybindings:\n",
    "    if 'when' in binding.keys() and 'isMac' in binding[\"when\"]:\n",
    "        if '!isMac' in binding[\"when\"]:\n",
    "            windows_keybindings.append(binding)\n",
    "        else:\n",
    "            mac_keybindings.append(binding)\n",
    "    else:\n",
    "        shared_keybindings.append(binding)"
   ]
  },
  {
   "cell_type": "markdown",
   "metadata": {},
   "source": [
    "# 2. Write keybindings to `sources` folder"
   ]
  },
  {
   "cell_type": "code",
   "execution_count": 14,
   "metadata": {},
   "outputs": [],
   "source": [
    "keybindings_dir = os.path.join(os.path.abspath(\"..\"), 'my_vscode_setup', 'keybindings')\n",
    "source_dir = os.path.join(keybindings_dir, 'sources')"
   ]
  },
  {
   "cell_type": "code",
   "execution_count": 17,
   "metadata": {},
   "outputs": [],
   "source": [
    "with open(os.path.join(source_dir, 'mac_keybindings.json'), 'w') as f:\n",
    "    json.dump(mac_keybindings, f, indent=4)\n",
    "with open(os.path.join(source_dir, 'windows_keybindings.json'), 'w') as f:\n",
    "    json.dump(windows_keybindings, f, indent=4)\n",
    "with open(os.path.join(source_dir, 'shared_keybindings.json'), 'w') as f:\n",
    "    json.dump(shared_keybindings, f, indent=4)"
   ]
  },
  {
   "cell_type": "markdown",
   "metadata": {},
   "source": [
    "# 3. Validity Checks"
   ]
  },
  {
   "cell_type": "markdown",
   "metadata": {},
   "source": [
    "Repeat this part iteratively untill everything is settled.  \n",
    "Change the three files in `sources`."
   ]
  },
  {
   "cell_type": "code",
   "execution_count": 25,
   "metadata": {},
   "outputs": [],
   "source": [
    "with open(os.path.join(source_dir, 'mac_keybindings.json'), 'r') as f:\n",
    "    mac_keybindings = json.load(f)\n",
    "with open(os.path.join(source_dir, 'windows_keybindings.json'), 'r') as f:\n",
    "    windows_keybindings = json.load(f)\n",
    "with open(os.path.join(source_dir, 'shared_keybindings.json'), 'r') as f:\n",
    "    shared_keybindings = json.load(f)"
   ]
  },
  {
   "cell_type": "markdown",
   "metadata": {},
   "source": [
    "### (a) Verify that lengths of Windows and Mac keybindings match"
   ]
  },
  {
   "cell_type": "code",
   "execution_count": 24,
   "metadata": {},
   "outputs": [
    {
     "data": {
      "text/plain": [
       "(29, 29, 69)"
      ]
     },
     "execution_count": 24,
     "metadata": {},
     "output_type": "execute_result"
    }
   ],
   "source": [
    "len(windows_keybindings), len(mac_keybindings), len(shared_keybindings)"
   ]
  },
  {
   "cell_type": "code",
   "execution_count": 26,
   "metadata": {},
   "outputs": [],
   "source": [
    "windows_commands = [binding['command'] for binding in windows_keybindings]\n",
    "mac_commands = [binding['command'] for binding in mac_keybindings]"
   ]
  },
  {
   "cell_type": "markdown",
   "metadata": {},
   "source": [
    "#### Windows commands mising in Mac:"
   ]
  },
  {
   "cell_type": "code",
   "execution_count": 27,
   "metadata": {},
   "outputs": [
    {
     "data": {
      "text/plain": [
       "set()"
      ]
     },
     "execution_count": 27,
     "metadata": {},
     "output_type": "execute_result"
    }
   ],
   "source": [
    "set(windows_commands) - set(mac_commands)"
   ]
  },
  {
   "cell_type": "markdown",
   "metadata": {},
   "source": [
    "#### Mac commands missing in Windows:"
   ]
  },
  {
   "cell_type": "code",
   "execution_count": 28,
   "metadata": {},
   "outputs": [
    {
     "data": {
      "text/plain": [
       "set()"
      ]
     },
     "execution_count": 28,
     "metadata": {},
     "output_type": "execute_result"
    }
   ],
   "source": [
    "set(mac_commands) - set(windows_commands)"
   ]
  },
  {
   "cell_type": "markdown",
   "metadata": {},
   "source": [
    "# Write new keybindings.json file"
   ]
  },
  {
   "cell_type": "code",
   "execution_count": null,
   "metadata": {},
   "outputs": [],
   "source": [
    "all_keybindings = windows_keybindings + mac_keybindings + shared_keybindings"
   ]
  },
  {
   "cell_type": "code",
   "execution_count": null,
   "metadata": {},
   "outputs": [],
   "source": [
    "with open(os.path.join(keybindings_dir, 'keybindings.json'), 'w') as f:\n",
    "    json.dump(all_keybindings, f, indent=4)"
   ]
  }
 ],
 "metadata": {
  "kernelspec": {
   "display_name": "pybullet_env",
   "language": "python",
   "name": "python3"
  },
  "language_info": {
   "codemirror_mode": {
    "name": "ipython",
    "version": 3
   },
   "file_extension": ".py",
   "mimetype": "text/x-python",
   "name": "python",
   "nbconvert_exporter": "python",
   "pygments_lexer": "ipython3",
   "version": "3.9.17"
  },
  "orig_nbformat": 4
 },
 "nbformat": 4,
 "nbformat_minor": 2
}
